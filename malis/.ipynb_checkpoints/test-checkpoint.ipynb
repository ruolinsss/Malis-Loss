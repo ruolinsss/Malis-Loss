{
 "cells": [
  {
   "cell_type": "code",
   "execution_count": 2,
   "metadata": {},
   "outputs": [
    {
     "name": "stdout",
     "output_type": "stream",
     "text": [
      "Malis TESTING/DEMO 2:\n",
      "Successfully!\n"
     ]
    }
   ],
   "source": [
    "import numpy as np\n",
    "import tensorflow as tf\n",
    "from malis import malis_utils\n",
    "\n",
    "\n",
    "print(\"Malis TESTING/DEMO 2:\")\n",
    "\n",
    "nhood = np.array([[0., 1., 0.], [0., 0., 1.]], dtype=np.int32)\n",
    "\n",
    "test_id2 = np.array([[[1, 1, 2, 2, 0, 0, 3, 3], [1, 1, 2, 2, 0, 0, 3, 3],\n",
    "                      [1, 1, 2, 2, 0, 0, 3, 3], [1, 1, 2, 2, 0, 0, 3, 3]]],\n",
    "                    dtype=np.int32)\n",
    "\n",
    "aff_gt = malis_utils.seg_to_affgraph(test_id2, nhood)\n",
    "seg_gt = malis_utils.affgraph_to_seg(aff_gt, nhood)[0].astype(np.int16)\n",
    "aff_pred = np.array([[[[1., 1., 1., 1., 0., 0., 1., 1.],\n",
    "                       [1., 1., 1., 1., 0., 0., 1., 1.],\n",
    "                       [0.9, 0.8, 1., 1., 0., 0., 1., 1.],\n",
    "                       [0., 0., 0., 0., 0., 0., 1., 1.]]],\n",
    "\n",
    "                     [[[1., 0., 1., 0.3, 0.2, 0.3, 1., 0.],\n",
    "                       [0.7, 0., 1., 0., 0., 0., 1., 0.],\n",
    "                       [1., 0.2, 1., 0., 0., 0., 1., 0.],\n",
    "                       [1., 0., 1., 0., 0., 0., 1., 0.]]]]).astype(np.float32)\n",
    "\n",
    "pos_t, neg_t = tf.py_function(\n",
    "            malis_utils.malis_weights,\n",
    "            [aff_pred, aff_gt, seg_gt, nhood],\n",
    "            [tf.int32,tf.int32])\n",
    "pos_t = tf.cast(pos_t,tf.float32)\n",
    "neg_t = tf.cast(neg_t,tf.float32)\n",
    "loss = tf.reduce_sum(pos_t * aff_pred)\n",
    "\n",
    "\n",
    "\n",
    "################ Checking ################\n",
    "pos = [[[[ 1, 3, 4, 0, 0, 0, 12, 0],\n",
    "   [ 8, 0, 0, 16, 0, 0, 0, 8],\n",
    "   [12, 0, 0, 4, 0, 0, 0, 4],\n",
    "   [ 0, 0, 0, 0, 0, 0, 0, 0]]],\n",
    " [[[ 2, 0, 1, 0, 0, 0, 1, 0],\n",
    "   [ 0, 0, 1, 0, 0, 0, 1, 0],\n",
    "   [ 1, 0, 1, 0, 0, 0, 1, 0],\n",
    "   [ 1, 0, 1, 0, 0, 0, 1, 0]]]]\n",
    "neg = [[[[  0, 0, 0, 0, 0, 0, 0, 0],\n",
    "   [  0, 0,  0,   0,  0, 0,  0,  0],\n",
    "   [  0, 0,  0,   0,  0,  0,  0,  0],\n",
    "   [  0, 0,  0,   0,  0,  0,  0,  0]]],\n",
    " [[[  0, 0,  0,   0, 64,  0,  0,  0],\n",
    "   [  0, 0,  0,   0,  0,  0,  0,  0],\n",
    "   [  0, 128,  0, 0,  0,  0,  0,  0],\n",
    "   [  0, 0,  0,   0,  0,  0,  0,  0]]]]\n",
    "\n",
    "assert abs(loss - 82.8) < 0.1, \"malis loss is calculated incorrectly\"\n",
    "assert (pos_t.numpy() == pos).all, \"pos counts are incorrectly\"\n",
    "assert (pos_t.numpy() == neg).all, \"neg counts are incorrectly\"\n",
    "\n",
    "print('Successfully!')"
   ]
  }
 ],
 "metadata": {
  "kernelspec": {
   "display_name": "Python malis_tensor",
   "language": "python",
   "name": "malis_tensor"
  },
  "language_info": {
   "codemirror_mode": {
    "name": "ipython",
    "version": 3
   },
   "file_extension": ".py",
   "mimetype": "text/x-python",
   "name": "python",
   "nbconvert_exporter": "python",
   "pygments_lexer": "ipython3",
   "version": "3.7.7"
  }
 },
 "nbformat": 4,
 "nbformat_minor": 2
}
